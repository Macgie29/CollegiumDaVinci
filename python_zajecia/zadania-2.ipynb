{
 "cells": [
  {
   "cell_type": "markdown",
   "id": "adee404e-174b-4e9d-b16f-e4e07d08dde9",
   "metadata": {},
   "source": [
    "## Listy sekwencyjne\n"
   ]
  },
  {
   "cell_type": "code",
   "execution_count": 1,
   "id": "62be2a32-61fb-43f6-b301-0089522275d4",
   "metadata": {},
   "outputs": [
    {
     "name": "stdout",
     "output_type": "stream",
     "text": [
      "[3, 7, 2, 8, 10]\n"
     ]
    }
   ],
   "source": [
    "a=[3,7,2,8,10]\n",
    "print(a)"
   ]
  },
  {
   "cell_type": "code",
   "execution_count": 2,
   "id": "4f228a0b-11b7-444d-9704-c66c5d39e1fb",
   "metadata": {},
   "outputs": [
    {
     "data": {
      "text/plain": [
       "[3, 7, 2, 8, 10, 50]"
      ]
     },
     "execution_count": 2,
     "metadata": {},
     "output_type": "execute_result"
    }
   ],
   "source": [
    "a.append(50)\n",
    "a"
   ]
  },
  {
   "cell_type": "code",
   "execution_count": 4,
   "id": "f243c4a8-5c20-49a2-8eb4-fc3218b39217",
   "metadata": {},
   "outputs": [
    {
     "data": {
      "text/plain": [
       "1"
      ]
     },
     "execution_count": 4,
     "metadata": {},
     "output_type": "execute_result"
    }
   ],
   "source": [
    "#2.1\n",
    "a=[1,2,3]\n",
    "a[0]"
   ]
  },
  {
   "cell_type": "code",
   "execution_count": 5,
   "id": "b86efb7b-2abf-4acd-8a35-d31b1228170a",
   "metadata": {},
   "outputs": [
    {
     "name": "stdout",
     "output_type": "stream",
     "text": [
      "Witaj w programie do seryjnego (5-krotnego) wyświetlania Twojego imienia!\n"
     ]
    },
    {
     "name": "stdin",
     "output_type": "stream",
     "text": [
      "podaj swoje imię po raz 1:  Maciej\n",
      "podaj swoje imię po raz 2:  Mariusz\n",
      "podaj swoje imię po raz 3:  Stefan\n",
      "podaj swoje imię po raz 4:  Klaus\n",
      "podaj swoje imię po raz 5:  Robert\n"
     ]
    },
    {
     "name": "stdout",
     "output_type": "stream",
     "text": [
      "Wprowadzone imiona: \n",
      "1. Maciej\n",
      "2. Mariusz\n",
      "3. Stefan\n",
      "4. Klaus\n",
      "5. Robert\n"
     ]
    }
   ],
   "source": [
    "#2.2\n",
    "\n",
    "imiona = []\n",
    "print(\"Witaj w programie do seryjnego (5-krotnego) wyświetlania Twojego imienia!\")\n",
    "imie = input(f\"podaj swoje imię po raz 1: \")\n",
    "imiona.append(imie)\n",
    "imie = input(f\"podaj swoje imię po raz 2: \")\n",
    "imiona.append(imie)\n",
    "imie = input(f\"podaj swoje imię po raz 3: \")\n",
    "imiona.append(imie)\n",
    "imie = input(f\"podaj swoje imię po raz 4: \")\n",
    "imiona.append(imie)\n",
    "imie = input(f\"podaj swoje imię po raz 5: \")\n",
    "imiona.append(imie)\n",
    "\n",
    "print(\"Wprowadzone imiona: \")\n",
    "print(f\"1. {imiona[0]}\")\n",
    "print(f\"2. {imiona[1]}\")\n",
    "print(f\"3. {imiona[2]}\")\n",
    "print(f\"4. {imiona[3]}\")\n",
    "print(f\"5. {imiona[4]}\")"
   ]
  },
  {
   "cell_type": "code",
   "execution_count": 15,
   "id": "10c14613-aa80-44e2-9c22-e85dd8449813",
   "metadata": {},
   "outputs": [
    {
     "name": "stdin",
     "output_type": "stream",
     "text": [
      "Podaj Imie ads\n",
      "Podaj Imie das\n",
      "Podaj Imie asd\n",
      "Podaj Imie ads\n",
      "Podaj Imie asd\n"
     ]
    },
    {
     "name": "stdout",
     "output_type": "stream",
     "text": [
      "Czesc ads\n",
      "Czesc das\n",
      "Czesc asd\n",
      "Czesc ads\n",
      "Czesc asd\n"
     ]
    }
   ],
   "source": [
    "#2.1 Alternatywa\n",
    "zbior = []\n",
    "\n",
    "while len(zbior) < 5:\n",
    "    imie = input(\"Podaj Imie\")\n",
    "    zbior.append(imie)\n",
    "    \n",
    "for i in zbior:\n",
    "    print(f\"Czesc {i}\")"
   ]
  },
  {
   "cell_type": "code",
   "execution_count": 16,
   "id": "7f88a93a-f325-437d-b946-2a6b5c3a527c",
   "metadata": {},
   "outputs": [
    {
     "name": "stdin",
     "output_type": "stream",
     "text": [
      "Podaj Imie 4\n",
      "Podaj Imie 6\n",
      "Podaj Imie 7\n",
      "Podaj Imie 9\n",
      "Podaj Imie 4\n"
     ]
    },
    {
     "name": "stdout",
     "output_type": "stream",
     "text": [
      "4\n",
      "4\n"
     ]
    }
   ],
   "source": [
    "#2.2\n",
    "zbior = []\n",
    "\n",
    "while len(zbior) < 5:\n",
    "    a = input(\"Podaj Wartosc\")\n",
    "    zbior.append(a)\n",
    "    \n",
    "print(zbior[0])\n",
    "print(zbior[-1])\n"
   ]
  },
  {
   "cell_type": "code",
   "execution_count": 21,
   "id": "0a1f320c-f796-40c5-99a0-8f3d2291a25f",
   "metadata": {},
   "outputs": [
    {
     "name": "stdin",
     "output_type": "stream",
     "text": [
      "Podaj Wartosc 2\n",
      "Podaj Wartosc 4\n",
      "Podaj Wartosc 5\n",
      "Podaj Wartosc 6\n",
      "Podaj Wartosc 7\n"
     ]
    },
    {
     "name": "stdout",
     "output_type": "stream",
     "text": [
      "4.8\n",
      "24\n"
     ]
    }
   ],
   "source": [
    "#2.3\n",
    "\n",
    "zbior = []\n",
    "\n",
    "while len(zbior) < 5:\n",
    "    a = int(input(\"Podaj Wartosc\"))\n",
    "    zbior.append(a)\n",
    "    \n",
    "srednia = sum(zbior)/len(zbior)\n",
    "suma = sum(zbior)\n",
    "\n",
    "print(srednia)\n",
    "print(suma)\n"
   ]
  },
  {
   "cell_type": "code",
   "execution_count": 23,
   "id": "f077b513-5a26-4803-89d5-2f99fa3cb186",
   "metadata": {},
   "outputs": [
    {
     "name": "stdin",
     "output_type": "stream",
     "text": [
      "Podaj Typ danych Stary\n",
      "Podaj Typ danych True\n",
      "Podaj Typ danych xd\n",
      "Podaj Typ danych 1.0\n"
     ]
    },
    {
     "name": "stdout",
     "output_type": "stream",
     "text": [
      "Czesc Stary\n",
      "Czesc True\n",
      "Czesc xd\n",
      "Czesc 1.0\n"
     ]
    }
   ],
   "source": [
    "#2.4\n",
    "\n",
    "zbior = []\n",
    "\n",
    "while len(zbior) < 4:\n",
    "    a = input(\"Podaj Typ danych\")\n",
    "    zbior.append(a)\n",
    "\n",
    "for i in zbior:\n",
    "    print(f\"Czesc {i}\")"
   ]
  },
  {
   "cell_type": "code",
   "execution_count": 24,
   "id": "769bfea8-139a-4aa5-a393-1a5730ef533e",
   "metadata": {},
   "outputs": [
    {
     "name": "stdout",
     "output_type": "stream",
     "text": [
      "Dane: [1, 1, 3, 2, 4, 6, 5, 3, 2, 1, 6, 50, 2, 3]\n",
      "Długość listy: 14\n",
      "Pierwsze 4 elementy: [1, 1, 3, 2]\n",
      "Wartość 1 występuje 3 razy\n",
      "Wartość 2 występuje 3 razy\n",
      "Wartość 3 występuje 3 razy\n",
      "Czy lista zawiera wartość 6? True\n",
      "Lista po wstawieniu wartości -100: [1, 1, 3, -100, 2, 4, 6, 5, 3, 2, 1, 6, 50, 2, 3]\n",
      "Lista po usunięciu ostatniej wartości: [1, 1, 3, -100, 2, 4, 6, 5, 3, 2, 1, 6, 50, 2]\n",
      "Lista po usunięciu wartości 50: [1, 1, 3, -100, 2, 4, 6, 5, 3, 2, 1, 6, 2]\n",
      "Pierwszy element: 1, lista po wyciągnięciu pierwszego elementu [1, 3, -100, 2, 4, 6, 5, 3, 2, 1, 6, 2]\n",
      "Odwrócona kolejność elementów: [2, 6, 1, 2, 3, 5, 6, 4, 2, -100, 3, 1]\n",
      "Posortowane dane: [-100, 1, 1, 2, 2, 2, 3, 3, 4, 5, 6, 6]\n"
     ]
    }
   ],
   "source": [
    "#2.5\n",
    "\n",
    "dane = [1, 1, 3, 2, 4, 6, 5, 3, 2, 1, 6, 50, 2, 3]\n",
    "print(f\"Dane: {dane}\")\n",
    "print(f\"Długość listy: {len(dane)}\")\n",
    "print(f\"Pierwsze 4 elementy: {dane[0:4]}\")\n",
    "print(f\"Wartość 1 występuje {dane.count(1)} razy\")\n",
    "print(f\"Wartość 2 występuje {dane.count(2)} razy\")\n",
    "print(f\"Wartość 3 występuje {dane.count(3)} razy\")\n",
    "print(f\"Czy lista zawiera wartość 6? {6 in dane}\")\n",
    "dane.insert(3, -100)\n",
    "print(f\"Lista po wstawieniu wartości -100: {dane}\")\n",
    "del dane[-1]\n",
    "print(f\"Lista po usunięciu ostatniej wartości: {dane}\")\n",
    "dane.remove(50)\n",
    "print(f\"Lista po usunięciu wartości 50: {dane}\")\n",
    "pierwszy = dane.pop(0)\n",
    "print(f\"Pierwszy element: {pierwszy}, lista po wyciągnięciu pierwszego elementu {dane}\")\n",
    "dane2=dane.copy()\n",
    "dane2.reverse()\n",
    "print(f\"Odwrócona kolejność elementów: {dane2}\")\n",
    "dane3=dane.copy()\n",
    "dane3.sort()\n",
    "print(f\"Posortowane dane: {dane3}\")"
   ]
  },
  {
   "cell_type": "markdown",
   "id": "a28e35cb-0bcc-4c41-9075-bf998ca858d8",
   "metadata": {},
   "source": [
    "## Krotki"
   ]
  },
  {
   "cell_type": "code",
   "execution_count": 27,
   "id": "aad58aa9-d798-41a1-bfaf-7467aa8f0174",
   "metadata": {},
   "outputs": [
    {
     "ename": "TypeError",
     "evalue": "'tuple' object doesn't support item deletion",
     "output_type": "error",
     "traceback": [
      "\u001b[0;31m---------------------------------------------------------------------------\u001b[0m",
      "\u001b[0;31mTypeError\u001b[0m                                 Traceback (most recent call last)",
      "\u001b[0;32m/var/folders/fj/_tf9b_g17230_2glmsbl3zr80000gp/T/ipykernel_13791/2772826465.py\u001b[0m in \u001b[0;36m<module>\u001b[0;34m\u001b[0m\n\u001b[1;32m      4\u001b[0m \u001b[0mkrotka\u001b[0m\u001b[0;34m[\u001b[0m\u001b[0;36m0\u001b[0m\u001b[0;34m]\u001b[0m\u001b[0;34m\u001b[0m\u001b[0;34m\u001b[0m\u001b[0m\n\u001b[1;32m      5\u001b[0m \u001b[0mkrotka\u001b[0m\u001b[0;34m[\u001b[0m\u001b[0;34m-\u001b[0m\u001b[0;36m1\u001b[0m\u001b[0;34m]\u001b[0m\u001b[0;34m\u001b[0m\u001b[0;34m\u001b[0m\u001b[0m\n\u001b[0;32m----> 6\u001b[0;31m \u001b[0;32mdel\u001b[0m \u001b[0mkrotka\u001b[0m\u001b[0;34m[\u001b[0m\u001b[0;36m0\u001b[0m\u001b[0;34m]\u001b[0m\u001b[0;34m\u001b[0m\u001b[0;34m\u001b[0m\u001b[0m\n\u001b[0m",
      "\u001b[0;31mTypeError\u001b[0m: 'tuple' object doesn't support item deletion"
     ]
    }
   ],
   "source": [
    "#2.6\n",
    "\n",
    "krotka = (1234,4567,2345,7890)\n",
    "krotka[0]\n",
    "krotka[-1]"
   ]
  },
  {
   "cell_type": "code",
   "execution_count": 37,
   "id": "8699747e-9182-4951-a5b0-0cb6c7cb47c5",
   "metadata": {},
   "outputs": [
    {
     "name": "stdout",
     "output_type": "stream",
     "text": [
      "14\n",
      "3\n",
      "True\n",
      "(1, 1, 3, 2, 100, 200, 300, 4, 6, 5, 3, 2, 1, 6, 50, 2, 3)\n"
     ]
    }
   ],
   "source": [
    "#2.7\n",
    "\n",
    "dane = (1,1,3,2,4,6,5,3,2,1,6,50,2,3)\n",
    "print(len(dane))\n",
    "print(dane.count(3))\n",
    "print(50 in dane)\n",
    "\n",
    "dane = dane[0:4] + (100, 200, 300) + dane[4:len(dane)]\n",
    "print(dane)"
   ]
  },
  {
   "cell_type": "markdown",
   "id": "f0a41b26-364f-4c68-bcb5-ddae051a768a",
   "metadata": {},
   "source": [
    "## Typ napisowy String"
   ]
  },
  {
   "cell_type": "code",
   "execution_count": 41,
   "id": "eac82e24-66c0-4139-8b9b-3da1d6f177cc",
   "metadata": {},
   "outputs": [
    {
     "name": "stdin",
     "output_type": "stream",
     "text": [
      "Wpisz zdanie Ala ma kota\n"
     ]
    },
    {
     "name": "stdout",
     "output_type": "stream",
     "text": [
      "11\n",
      "2\n"
     ]
    }
   ],
   "source": [
    "#2.8\n",
    "\n",
    "zdanie = input(\"Wpisz zdanie\")\n",
    "print(len(zdanie))\n",
    "print(zdanie.count(\" \"))"
   ]
  },
  {
   "cell_type": "code",
   "execution_count": 43,
   "id": "fbf9f8c8-2ccf-4ad8-b520-acefc29f08ef",
   "metadata": {},
   "outputs": [
    {
     "name": "stdin",
     "output_type": "stream",
     "text": [
      "Podaj dowolne zdanie:  ALE BEKA LOL XDDDDD\n"
     ]
    },
    {
     "name": "stdout",
     "output_type": "stream",
     "text": [
      "Czy wszystkie litery są wielkie? True\n",
      "Czy wszystkie litery są małe? False\n",
      "Nowa wersja zdania: ABC BEKA LOL XDDDDD\n"
     ]
    }
   ],
   "source": [
    "#2.9\n",
    "\n",
    "zdanie = input(\"Podaj dowolne zdanie: \")\n",
    "print(f\"Czy wszystkie litery są wielkie? {zdanie.isupper()}\")\n",
    "print(f\"Czy wszystkie litery są małe? {zdanie.islower()}\")\n",
    "zdanie2 = zdanie.replace(zdanie[0:3], \"ABC\")\n",
    "print(f\"Nowa wersja zdania: {zdanie2}\")"
   ]
  },
  {
   "cell_type": "code",
   "execution_count": 44,
   "id": "b6301d7b-6853-48b1-a2a3-d7703a5097ba",
   "metadata": {},
   "outputs": [
    {
     "name": "stdout",
     "output_type": "stream",
     "text": [
      "Nowe zdanie: Dzisiaj znowu poznajemy interesujące techniki programowania!\n",
      "Wystąpienia litery i: 6\n",
      "Długość nowego tekstu: 60\n"
     ]
    }
   ],
   "source": [
    "#2.10\n",
    "\n",
    "napis_1 = \"Dzisiaj znowu poznajemy Pythona!\"\n",
    "napis_2 = napis_1.replace(\"Pythona\", \"interesujące techniki programowania\")\n",
    "print(f\"Nowe zdanie: {napis_2}\")\n",
    "ile_i = napis_2.count(\"i\")\n",
    "dlugosc = len(napis_2)\n",
    "print(f\"Wystąpienia litery i: {ile_i}\")\n",
    "print(f\"Długość nowego tekstu: {dlugosc}\")"
   ]
  },
  {
   "cell_type": "markdown",
   "id": "f8751734-047b-437a-ab1f-e82b6c9a8110",
   "metadata": {},
   "source": [
    "## Slowniki"
   ]
  },
  {
   "cell_type": "code",
   "execution_count": 8,
   "id": "91489658-0ef4-4522-b6ca-74449ea58810",
   "metadata": {},
   "outputs": [
    {
     "name": "stdout",
     "output_type": "stream",
     "text": [
      "jeden\n",
      "dwa\n",
      "trzy\n",
      "1\n",
      "2\n",
      "3\n"
     ]
    }
   ],
   "source": [
    "slownik = {1: \"jeden\", 2: \"dwa\", 3: \"trzy\"}\n",
    "\n",
    "\n",
    "for i in slownik:\n",
    "    print(slownik[i])\n",
    "\n",
    "    \n",
    "for i in slownik:\n",
    "    print(i)\n"
   ]
  },
  {
   "cell_type": "code",
   "execution_count": 1,
   "id": "828dfce5-6d63-4472-ac61-aed44a9d74fe",
   "metadata": {},
   "outputs": [
    {
     "name": "stdin",
     "output_type": "stream",
     "text": [
      "podaj numer miesiaca 10\n"
     ]
    },
    {
     "name": "stdout",
     "output_type": "stream",
     "text": [
      "10 październik\n"
     ]
    }
   ],
   "source": [
    "# 2.11\n",
    "\n",
    "slownik = {1:\"styczeń\", 2:\"luty\", 3:\"marzec\", 4:\"kwiecień\", 5:\"maj\", 6:\"czerwiec\", 7:\"lipiec\", 8:\"sierpień\", \\\n",
    "          9:\"wrzesień\", 10:\"październik\", 11:\"listopad\", 12:\"grudzień\"}\n",
    "\n",
    "slowo = int(input(\"podaj numer miesiaca\"))\n",
    "odp = slownik[slowo]\n",
    "\n",
    "print(slowo, odp)"
   ]
  },
  {
   "cell_type": "code",
   "execution_count": 3,
   "id": "76687c70-f32f-40a4-9ee0-460569fd3b9b",
   "metadata": {},
   "outputs": [
    {
     "name": "stdin",
     "output_type": "stream",
     "text": [
      "podaj numer 4\n"
     ]
    },
    {
     "name": "stdout",
     "output_type": "stream",
     "text": [
      "cztery\n"
     ]
    }
   ],
   "source": [
    "# 2.12\n",
    "\n",
    "slownik = {1:\"jeden\", 2:\"dwa\", 3:\"trzy\", 4:\"cztery\", 5:\"piec\", 6:\"szesc\", 7:\"siedem\", 8:\"osiem\", 9:\"dziewiec\", 10:\"dziesiec\"}\n",
    "\n",
    "\n",
    "slowo = int(input(\"podaj numer\"))\n",
    "odp = slownik[slowo]\n",
    "\n",
    "print(odp)"
   ]
  },
  {
   "cell_type": "code",
   "execution_count": null,
   "id": "a8413395-ca46-47bd-95c4-76bb86e4bd2d",
   "metadata": {},
   "outputs": [],
   "source": [
    "#2.13\n",
    "\n",
    "slownik = {\"I\":1, \"II\": 2, \"III\":3, \"IV\":4, \"V\":5, \"VI\":6, \"VII\":7, \"VIII\":8, \"IX\":9, \"X\":10, \"XX\":20, \\\n",
    "          \"XXX\":30, \"XL\":40, \"L\":50, \"LX\":60, \"LXX\": 70, \"LXXX\": 80, \"XC\":90, \"C\":100, \"CC\":200, \"CCC\":300, \\\n",
    "          \"CD\":400, \"D\":500, \"DC\": 600, \"DCC\":700, \"DCCC\":800, \"CM\":900, \"M\":1000}\n",
    "\n",
    "liczba = input(f\"Podaj cyfrę rzymską, której wersję arabską chcesz wyświetlić: \")\n",
    "odp = slownik[liczba]\n",
    "\n",
    "print(f\"Liczba {liczba}, wersja arabska: {odp}\")"
   ]
  },
  {
   "cell_type": "code",
   "execution_count": 4,
   "id": "d082d25e-ba0c-4afa-adb6-fba590b8f906",
   "metadata": {},
   "outputs": [
    {
     "name": "stdin",
     "output_type": "stream",
     "text": [
      "Wprowadź 5-cyfrową liczbę:  12456\n"
     ]
    },
    {
     "name": "stdout",
     "output_type": "stream",
     "text": [
      "12456 - jeden dwa cztery pięć sześć\n"
     ]
    }
   ],
   "source": [
    "#2.14\n",
    "\n",
    "slownik = {\"0\":\"zero\", \"1\":\"jeden\", \"2\":\"dwa\", \"3\":\"trzy\", \"4\":\"cztery\", \"5\":\"pięć\", \"6\":\"sześć\", \\\n",
    "          \"7\":\"siedem\", \"8\":\"osiem\", \"9\":\"dziewięć\"}\n",
    "\n",
    "liczba = input(\"Wprowadź 5-cyfrową liczbę: \")\n",
    "\n",
    "print(f\"{liczba} - {slownik[liczba[0]]} {slownik[liczba[1]]} {slownik[liczba[2]]} {slownik[liczba[3]]} {slownik[liczba[4]]}\")"
   ]
  },
  {
   "cell_type": "code",
   "execution_count": 5,
   "id": "9137f572-b916-4039-892b-356972d78da3",
   "metadata": {},
   "outputs": [
    {
     "name": "stdout",
     "output_type": "stream",
     "text": [
      "Lista krotek klucz-wartość: dict_items([('m1', 'Ford'), ('m2', 'Fiat'), ('m3', 'Opel'), ('m4', 'Skoda'), ('m5', 'Wołga'), ('m6', 'Dacia')])\n",
      "Zawartość słownika przed czyszczeniem: {'m1': 'Ford', 'm2': 'Fiat', 'm3': 'Opel', 'm4': 'Skoda', 'm5': 'Wołga', 'm6': 'Dacia', 'm7': 'FSO'}\n",
      "Zawartość słownika po czyszczeniu: {}\n"
     ]
    }
   ],
   "source": [
    "#2.15\n",
    "\n",
    "slownik = {\"m1\": \"Ford\", \"m2\": \"Fiat\", \"m3\": \"Opel\", \"m4\": \"Skoda\", \"m5\": \"Wołga\", \"m6\": \"Dacia\"}\n",
    "slownik_kopia_1 = slownik.copy()\n",
    "lista = slownik_kopia_1.items()\n",
    "print(f\"Lista krotek klucz-wartość: {lista}\")\n",
    "slownik_kopia_1.update({\"m7\": \"FSO\"})\n",
    "slownik_kopia_2 = slownik_kopia_1.copy()\n",
    "print(f\"Zawartość słownika przed czyszczeniem: {slownik_kopia_2}\")\n",
    "slownik_kopia_2.clear()\n",
    "print(f\"Zawartość słownika po czyszczeniu: {slownik_kopia_2}\")"
   ]
  },
  {
   "cell_type": "markdown",
   "id": "b9d5c5a4-99a0-48cb-adc3-a67b984c0be8",
   "metadata": {},
   "source": [
    "## Zbiory"
   ]
  },
  {
   "cell_type": "code",
   "execution_count": null,
   "id": "f967822b-ab74-4410-a5c6-3df5dc5c80b5",
   "metadata": {},
   "outputs": [],
   "source": [
    "#2.16 DO DOMU"
   ]
  },
  {
   "cell_type": "markdown",
   "id": "f640c0d9-2b39-49fe-8885-b9048be419ba",
   "metadata": {},
   "source": [
    "## Instrukcje warunkowe"
   ]
  },
  {
   "cell_type": "code",
   "execution_count": 7,
   "id": "1732d60e-7266-4e05-abd0-5256d42f01b5",
   "metadata": {},
   "outputs": [
    {
     "name": "stdout",
     "output_type": "stream",
     "text": [
      "Witaj w testerze dodatniości!\n"
     ]
    },
    {
     "name": "stdin",
     "output_type": "stream",
     "text": [
      "Poda dowolną liczbę całkowitą:  1\n"
     ]
    },
    {
     "name": "stdout",
     "output_type": "stream",
     "text": [
      "liczba jest dodatnia\n"
     ]
    }
   ],
   "source": [
    "#2.17\n",
    "\n",
    "print(\"Witaj w testerze dodatniości!\")\n",
    "\n",
    "liczba = int(input(\"Poda dowolną liczbę całkowitą: \"))\n",
    "\n",
    "if liczba<0:\n",
    "    print(\"liczba jest ujemna\")\n",
    "elif liczba>0:\n",
    "    print(\"liczba jest dodatnia\")\n",
    "elif liczba == 0:\n",
    "    print(\"liczba jest równa zeru\")\n",
    "else:\n",
    "    print(\"nie znam poprawnej odpowiedzi\")"
   ]
  },
  {
   "cell_type": "code",
   "execution_count": 9,
   "id": "9465d6d3-2862-4618-8379-15c5a5f1965e",
   "metadata": {},
   "outputs": [
    {
     "name": "stdout",
     "output_type": "stream",
     "text": [
      "Witaj w testerze parzystości!\n"
     ]
    },
    {
     "name": "stdin",
     "output_type": "stream",
     "text": [
      "Poda dowolną liczbę całkowitą:  5\n"
     ]
    },
    {
     "name": "stdout",
     "output_type": "stream",
     "text": [
      "liczba jest nieparzysta\n"
     ]
    }
   ],
   "source": [
    "#2.18\n",
    "\n",
    "print(\"Witaj w testerze parzystości!\")\n",
    "\n",
    "liczba = int(input(\"Poda dowolną liczbę całkowitą: \"))\n",
    "\n",
    "if liczba%2==0:\n",
    "    print(\"liczba jest parzysta\")\n",
    "else:\n",
    "    print(\"liczba jest nieparzysta\")"
   ]
  },
  {
   "cell_type": "code",
   "execution_count": 10,
   "id": "c3e87684-0544-4ea8-997e-f2e7c948611b",
   "metadata": {},
   "outputs": [
    {
     "name": "stdin",
     "output_type": "stream",
     "text": [
      "Podaj pierwszą wartość:  3\n",
      "Podaj drugą wartość:  5\n"
     ]
    },
    {
     "name": "stdout",
     "output_type": "stream",
     "text": [
      "Większa wartość to 5\n"
     ]
    }
   ],
   "source": [
    "#2.20\n",
    "\n",
    "zm1 = int(input(\"Podaj pierwszą wartość: \"))\n",
    "zm2 = int(input(\"Podaj drugą wartość: \"))\n",
    "\n",
    "if zm1>zm2:\n",
    "    print(f\"Większa wartość to {zm1}\")\n",
    "\n",
    "if zm2>zm1:\n",
    "    print(f\"Większa wartość to {zm2}\")\n",
    "    \n",
    "if zm1 == zm2:\n",
    "    print(\"Obie wartości są równe\")"
   ]
  },
  {
   "cell_type": "code",
   "execution_count": 11,
   "id": "45892fda-8155-4802-8cfb-42c36a969d10",
   "metadata": {},
   "outputs": [
    {
     "name": "stdout",
     "output_type": "stream",
     "text": [
      "Witaj w programie sortującym trzy wartości!\n"
     ]
    },
    {
     "name": "stdin",
     "output_type": "stream",
     "text": [
      "Podaj pierwszą wartość a:  3\n",
      "Podaj drugą wartość b:  7\n",
      "Podaj trzecią wartość c:  1\n"
     ]
    },
    {
     "name": "stdout",
     "output_type": "stream",
     "text": [
      "1 3 7\n"
     ]
    }
   ],
   "source": [
    "#2.21\n",
    "print(\"Witaj w programie sortującym trzy wartości!\")\n",
    "\n",
    "a = int(input(\"Podaj pierwszą wartość a: \"))\n",
    "b = int(input(\"Podaj drugą wartość b: \"))\n",
    "c = int(input(\"Podaj trzecią wartość c: \"))\n",
    "\n",
    "\n",
    "if a>b:\n",
    "    zmp = b\n",
    "    b = a\n",
    "    a = zmp\n",
    "\n",
    "if a>c:\n",
    "    zmp = c\n",
    "    c = a\n",
    "    a = zmp\n",
    "    \n",
    "if b>c:\n",
    "    zmp = c\n",
    "    c = b\n",
    "    b = zmp\n",
    "    \n",
    "print(a, b, c)"
   ]
  },
  {
   "cell_type": "code",
   "execution_count": null,
   "id": "079e2348-e295-4b96-a9c4-f3c1665bf6ae",
   "metadata": {},
   "outputs": [],
   "source": [
    "#2.22\n",
    "#2.23\n",
    "#2.24"
   ]
  },
  {
   "cell_type": "code",
   "execution_count": 1,
   "id": "8b62b154-350a-4694-a338-ac7227d14873",
   "metadata": {},
   "outputs": [
    {
     "data": {
      "text/plain": [
       "[0,\n",
       " 1,\n",
       " 2,\n",
       " 3,\n",
       " 4,\n",
       " 5,\n",
       " 6,\n",
       " 7,\n",
       " 8,\n",
       " 9,\n",
       " 10,\n",
       " 11,\n",
       " 12,\n",
       " 13,\n",
       " 14,\n",
       " 15,\n",
       " 16,\n",
       " 17,\n",
       " 18,\n",
       " 19,\n",
       " 20,\n",
       " 21,\n",
       " 22,\n",
       " 23,\n",
       " 24,\n",
       " 25,\n",
       " 26,\n",
       " 27,\n",
       " 28,\n",
       " 29,\n",
       " 30,\n",
       " 31,\n",
       " 32,\n",
       " 33,\n",
       " 34,\n",
       " 35,\n",
       " 36,\n",
       " 37,\n",
       " 38,\n",
       " 39,\n",
       " 40,\n",
       " 41,\n",
       " 42,\n",
       " 43,\n",
       " 44,\n",
       " 45,\n",
       " 46,\n",
       " 47,\n",
       " 48,\n",
       " 49,\n",
       " 50,\n",
       " 51,\n",
       " 52,\n",
       " 53,\n",
       " 54,\n",
       " 55,\n",
       " 56,\n",
       " 57,\n",
       " 58,\n",
       " 59,\n",
       " 60,\n",
       " 61,\n",
       " 62,\n",
       " 63,\n",
       " 64,\n",
       " 65,\n",
       " 66,\n",
       " 67,\n",
       " 68,\n",
       " 69,\n",
       " 70,\n",
       " 71,\n",
       " 72,\n",
       " 73,\n",
       " 74,\n",
       " 75,\n",
       " 76,\n",
       " 77,\n",
       " 78,\n",
       " 79,\n",
       " 80,\n",
       " 81,\n",
       " 82,\n",
       " 83,\n",
       " 84,\n",
       " 85,\n",
       " 86,\n",
       " 87,\n",
       " 88,\n",
       " 89,\n",
       " 90,\n",
       " 91,\n",
       " 92,\n",
       " 93,\n",
       " 94,\n",
       " 95,\n",
       " 96,\n",
       " 97,\n",
       " 98,\n",
       " 99]"
      ]
     },
     "execution_count": 1,
     "metadata": {},
     "output_type": "execute_result"
    }
   ],
   "source": [
    "[x for x in range(100)]"
   ]
  },
  {
   "cell_type": "code",
   "execution_count": null,
   "id": "a1183011-e10f-4d62-84b8-9c1988a885d6",
   "metadata": {},
   "outputs": [],
   "source": []
  }
 ],
 "metadata": {
  "kernelspec": {
   "display_name": "Python 3 (ipykernel)",
   "language": "python",
   "name": "python3"
  },
  "language_info": {
   "codemirror_mode": {
    "name": "ipython",
    "version": 3
   },
   "file_extension": ".py",
   "mimetype": "text/x-python",
   "name": "python",
   "nbconvert_exporter": "python",
   "pygments_lexer": "ipython3",
   "version": "3.9.12"
  }
 },
 "nbformat": 4,
 "nbformat_minor": 5
}
