{
 "cells": [
  {
   "cell_type": "markdown",
   "id": "adee404e-174b-4e9d-b16f-e4e07d08dde9",
   "metadata": {},
   "source": [
    "## Listy sekwencyjne\n"
   ]
  },
  {
   "cell_type": "code",
   "execution_count": 1,
   "id": "62be2a32-61fb-43f6-b301-0089522275d4",
   "metadata": {},
   "outputs": [
    {
     "name": "stdout",
     "output_type": "stream",
     "text": [
      "[3, 7, 2, 8, 10]\n"
     ]
    }
   ],
   "source": [
    "a=[3,7,2,8,10]\n",
    "print(a)"
   ]
  },
  {
   "cell_type": "code",
   "execution_count": 2,
   "id": "4f228a0b-11b7-444d-9704-c66c5d39e1fb",
   "metadata": {},
   "outputs": [
    {
     "data": {
      "text/plain": [
       "[3, 7, 2, 8, 10, 50]"
      ]
     },
     "execution_count": 2,
     "metadata": {},
     "output_type": "execute_result"
    }
   ],
   "source": [
    "a.append(50)\n",
    "a"
   ]
  },
  {
   "cell_type": "code",
   "execution_count": 4,
   "id": "f243c4a8-5c20-49a2-8eb4-fc3218b39217",
   "metadata": {},
   "outputs": [
    {
     "data": {
      "text/plain": [
       "1"
      ]
     },
     "execution_count": 4,
     "metadata": {},
     "output_type": "execute_result"
    }
   ],
   "source": [
    "#2.1\n",
    "a=[1,2,3]\n",
    "a[0]"
   ]
  },
  {
   "cell_type": "code",
   "execution_count": 5,
   "id": "b86efb7b-2abf-4acd-8a35-d31b1228170a",
   "metadata": {},
   "outputs": [
    {
     "name": "stdout",
     "output_type": "stream",
     "text": [
      "Witaj w programie do seryjnego (5-krotnego) wyświetlania Twojego imienia!\n"
     ]
    },
    {
     "name": "stdin",
     "output_type": "stream",
     "text": [
      "podaj swoje imię po raz 1:  Maciej\n",
      "podaj swoje imię po raz 2:  Mariusz\n",
      "podaj swoje imię po raz 3:  Stefan\n",
      "podaj swoje imię po raz 4:  Klaus\n",
      "podaj swoje imię po raz 5:  Robert\n"
     ]
    },
    {
     "name": "stdout",
     "output_type": "stream",
     "text": [
      "Wprowadzone imiona: \n",
      "1. Maciej\n",
      "2. Mariusz\n",
      "3. Stefan\n",
      "4. Klaus\n",
      "5. Robert\n"
     ]
    }
   ],
   "source": [
    "#2.2\n",
    "\n",
    "imiona = []\n",
    "print(\"Witaj w programie do seryjnego (5-krotnego) wyświetlania Twojego imienia!\")\n",
    "imie = input(f\"podaj swoje imię po raz 1: \")\n",
    "imiona.append(imie)\n",
    "imie = input(f\"podaj swoje imię po raz 2: \")\n",
    "imiona.append(imie)\n",
    "imie = input(f\"podaj swoje imię po raz 3: \")\n",
    "imiona.append(imie)\n",
    "imie = input(f\"podaj swoje imię po raz 4: \")\n",
    "imiona.append(imie)\n",
    "imie = input(f\"podaj swoje imię po raz 5: \")\n",
    "imiona.append(imie)\n",
    "\n",
    "print(\"Wprowadzone imiona: \")\n",
    "print(f\"1. {imiona[0]}\")\n",
    "print(f\"2. {imiona[1]}\")\n",
    "print(f\"3. {imiona[2]}\")\n",
    "print(f\"4. {imiona[3]}\")\n",
    "print(f\"5. {imiona[4]}\")"
   ]
  },
  {
   "cell_type": "code",
   "execution_count": 15,
   "id": "10c14613-aa80-44e2-9c22-e85dd8449813",
   "metadata": {},
   "outputs": [
    {
     "name": "stdin",
     "output_type": "stream",
     "text": [
      "Podaj Imie ads\n",
      "Podaj Imie das\n",
      "Podaj Imie asd\n",
      "Podaj Imie ads\n",
      "Podaj Imie asd\n"
     ]
    },
    {
     "name": "stdout",
     "output_type": "stream",
     "text": [
      "Czesc ads\n",
      "Czesc das\n",
      "Czesc asd\n",
      "Czesc ads\n",
      "Czesc asd\n"
     ]
    }
   ],
   "source": [
    "#2.1 Alternatywa\n",
    "zbior = []\n",
    "\n",
    "while len(zbior) < 5:\n",
    "    imie = input(\"Podaj Imie\")\n",
    "    zbior.append(imie)\n",
    "    \n",
    "for i in zbior:\n",
    "    print(f\"Czesc {i}\")"
   ]
  },
  {
   "cell_type": "code",
   "execution_count": 16,
   "id": "7f88a93a-f325-437d-b946-2a6b5c3a527c",
   "metadata": {},
   "outputs": [
    {
     "name": "stdin",
     "output_type": "stream",
     "text": [
      "Podaj Imie 4\n",
      "Podaj Imie 6\n",
      "Podaj Imie 7\n",
      "Podaj Imie 9\n",
      "Podaj Imie 4\n"
     ]
    },
    {
     "name": "stdout",
     "output_type": "stream",
     "text": [
      "4\n",
      "4\n"
     ]
    }
   ],
   "source": [
    "#2.2\n",
    "zbior = []\n",
    "\n",
    "while len(zbior) < 5:\n",
    "    a = input(\"Podaj Wartosc\")\n",
    "    zbior.append(a)\n",
    "    \n",
    "print(zbior[0])\n",
    "print(zbior[-1])\n"
   ]
  },
  {
   "cell_type": "code",
   "execution_count": 21,
   "id": "0a1f320c-f796-40c5-99a0-8f3d2291a25f",
   "metadata": {},
   "outputs": [
    {
     "name": "stdin",
     "output_type": "stream",
     "text": [
      "Podaj Wartosc 2\n",
      "Podaj Wartosc 4\n",
      "Podaj Wartosc 5\n",
      "Podaj Wartosc 6\n",
      "Podaj Wartosc 7\n"
     ]
    },
    {
     "name": "stdout",
     "output_type": "stream",
     "text": [
      "4.8\n",
      "24\n"
     ]
    }
   ],
   "source": [
    "#2.3\n",
    "\n",
    "zbior = []\n",
    "\n",
    "while len(zbior) < 5:\n",
    "    a = int(input(\"Podaj Wartosc\"))\n",
    "    zbior.append(a)\n",
    "    \n",
    "srednia = sum(zbior)/len(zbior)\n",
    "suma = sum(zbior)\n",
    "\n",
    "print(srednia)\n",
    "print(suma)\n"
   ]
  },
  {
   "cell_type": "code",
   "execution_count": 23,
   "id": "f077b513-5a26-4803-89d5-2f99fa3cb186",
   "metadata": {},
   "outputs": [
    {
     "name": "stdin",
     "output_type": "stream",
     "text": [
      "Podaj Typ danych Stary\n",
      "Podaj Typ danych True\n",
      "Podaj Typ danych xd\n",
      "Podaj Typ danych 1.0\n"
     ]
    },
    {
     "name": "stdout",
     "output_type": "stream",
     "text": [
      "Czesc Stary\n",
      "Czesc True\n",
      "Czesc xd\n",
      "Czesc 1.0\n"
     ]
    }
   ],
   "source": [
    "#2.4\n",
    "\n",
    "zbior = []\n",
    "\n",
    "while len(zbior) < 4:\n",
    "    a = input(\"Podaj Typ danych\")\n",
    "    zbior.append(a)\n",
    "\n",
    "for i in zbior:\n",
    "    print(f\"Czesc {i}\")"
   ]
  },
  {
   "cell_type": "code",
   "execution_count": 24,
   "id": "769bfea8-139a-4aa5-a393-1a5730ef533e",
   "metadata": {},
   "outputs": [
    {
     "name": "stdout",
     "output_type": "stream",
     "text": [
      "Dane: [1, 1, 3, 2, 4, 6, 5, 3, 2, 1, 6, 50, 2, 3]\n",
      "Długość listy: 14\n",
      "Pierwsze 4 elementy: [1, 1, 3, 2]\n",
      "Wartość 1 występuje 3 razy\n",
      "Wartość 2 występuje 3 razy\n",
      "Wartość 3 występuje 3 razy\n",
      "Czy lista zawiera wartość 6? True\n",
      "Lista po wstawieniu wartości -100: [1, 1, 3, -100, 2, 4, 6, 5, 3, 2, 1, 6, 50, 2, 3]\n",
      "Lista po usunięciu ostatniej wartości: [1, 1, 3, -100, 2, 4, 6, 5, 3, 2, 1, 6, 50, 2]\n",
      "Lista po usunięciu wartości 50: [1, 1, 3, -100, 2, 4, 6, 5, 3, 2, 1, 6, 2]\n",
      "Pierwszy element: 1, lista po wyciągnięciu pierwszego elementu [1, 3, -100, 2, 4, 6, 5, 3, 2, 1, 6, 2]\n",
      "Odwrócona kolejność elementów: [2, 6, 1, 2, 3, 5, 6, 4, 2, -100, 3, 1]\n",
      "Posortowane dane: [-100, 1, 1, 2, 2, 2, 3, 3, 4, 5, 6, 6]\n"
     ]
    }
   ],
   "source": [
    "#2.5\n",
    "\n",
    "dane = [1, 1, 3, 2, 4, 6, 5, 3, 2, 1, 6, 50, 2, 3]\n",
    "print(f\"Dane: {dane}\")\n",
    "print(f\"Długość listy: {len(dane)}\")\n",
    "print(f\"Pierwsze 4 elementy: {dane[0:4]}\")\n",
    "print(f\"Wartość 1 występuje {dane.count(1)} razy\")\n",
    "print(f\"Wartość 2 występuje {dane.count(2)} razy\")\n",
    "print(f\"Wartość 3 występuje {dane.count(3)} razy\")\n",
    "print(f\"Czy lista zawiera wartość 6? {6 in dane}\")\n",
    "dane.insert(3, -100)\n",
    "print(f\"Lista po wstawieniu wartości -100: {dane}\")\n",
    "del dane[-1]\n",
    "print(f\"Lista po usunięciu ostatniej wartości: {dane}\")\n",
    "dane.remove(50)\n",
    "print(f\"Lista po usunięciu wartości 50: {dane}\")\n",
    "pierwszy = dane.pop(0)\n",
    "print(f\"Pierwszy element: {pierwszy}, lista po wyciągnięciu pierwszego elementu {dane}\")\n",
    "dane2=dane.copy()\n",
    "dane2.reverse()\n",
    "print(f\"Odwrócona kolejność elementów: {dane2}\")\n",
    "dane3=dane.copy()\n",
    "dane3.sort()\n",
    "print(f\"Posortowane dane: {dane3}\")"
   ]
  },
  {
   "cell_type": "markdown",
   "id": "a28e35cb-0bcc-4c41-9075-bf998ca858d8",
   "metadata": {},
   "source": [
    "## Krotki"
   ]
  },
  {
   "cell_type": "code",
   "execution_count": 27,
   "id": "aad58aa9-d798-41a1-bfaf-7467aa8f0174",
   "metadata": {},
   "outputs": [
    {
     "ename": "TypeError",
     "evalue": "'tuple' object doesn't support item deletion",
     "output_type": "error",
     "traceback": [
      "\u001b[0;31m---------------------------------------------------------------------------\u001b[0m",
      "\u001b[0;31mTypeError\u001b[0m                                 Traceback (most recent call last)",
      "\u001b[0;32m/var/folders/fj/_tf9b_g17230_2glmsbl3zr80000gp/T/ipykernel_13791/2772826465.py\u001b[0m in \u001b[0;36m<module>\u001b[0;34m\u001b[0m\n\u001b[1;32m      4\u001b[0m \u001b[0mkrotka\u001b[0m\u001b[0;34m[\u001b[0m\u001b[0;36m0\u001b[0m\u001b[0;34m]\u001b[0m\u001b[0;34m\u001b[0m\u001b[0;34m\u001b[0m\u001b[0m\n\u001b[1;32m      5\u001b[0m \u001b[0mkrotka\u001b[0m\u001b[0;34m[\u001b[0m\u001b[0;34m-\u001b[0m\u001b[0;36m1\u001b[0m\u001b[0;34m]\u001b[0m\u001b[0;34m\u001b[0m\u001b[0;34m\u001b[0m\u001b[0m\n\u001b[0;32m----> 6\u001b[0;31m \u001b[0;32mdel\u001b[0m \u001b[0mkrotka\u001b[0m\u001b[0;34m[\u001b[0m\u001b[0;36m0\u001b[0m\u001b[0;34m]\u001b[0m\u001b[0;34m\u001b[0m\u001b[0;34m\u001b[0m\u001b[0m\n\u001b[0m",
      "\u001b[0;31mTypeError\u001b[0m: 'tuple' object doesn't support item deletion"
     ]
    }
   ],
   "source": [
    "#2.6\n",
    "\n",
    "krotka = (1234,4567,2345,7890)\n",
    "krotka[0]\n",
    "krotka[-1]"
   ]
  },
  {
   "cell_type": "code",
   "execution_count": 37,
   "id": "8699747e-9182-4951-a5b0-0cb6c7cb47c5",
   "metadata": {},
   "outputs": [
    {
     "name": "stdout",
     "output_type": "stream",
     "text": [
      "14\n",
      "3\n",
      "True\n",
      "(1, 1, 3, 2, 100, 200, 300, 4, 6, 5, 3, 2, 1, 6, 50, 2, 3)\n"
     ]
    }
   ],
   "source": [
    "#2.7\n",
    "\n",
    "dane = (1,1,3,2,4,6,5,3,2,1,6,50,2,3)\n",
    "print(len(dane))\n",
    "print(dane.count(3))\n",
    "print(50 in dane)\n",
    "\n",
    "dane = dane[0:4] + (100, 200, 300) + dane[4:len(dane)]\n",
    "print(dane)"
   ]
  },
  {
   "cell_type": "markdown",
   "id": "f0a41b26-364f-4c68-bcb5-ddae051a768a",
   "metadata": {},
   "source": [
    "## Typ napisowy String"
   ]
  },
  {
   "cell_type": "code",
   "execution_count": 41,
   "id": "eac82e24-66c0-4139-8b9b-3da1d6f177cc",
   "metadata": {},
   "outputs": [
    {
     "name": "stdin",
     "output_type": "stream",
     "text": [
      "Wpisz zdanie Ala ma kota\n"
     ]
    },
    {
     "name": "stdout",
     "output_type": "stream",
     "text": [
      "11\n",
      "2\n"
     ]
    }
   ],
   "source": [
    "#2.8\n",
    "\n",
    "zdanie = input(\"Wpisz zdanie\")\n",
    "print(len(zdanie))\n",
    "print(zdanie.count(\" \"))"
   ]
  },
  {
   "cell_type": "code",
   "execution_count": 43,
   "id": "fbf9f8c8-2ccf-4ad8-b520-acefc29f08ef",
   "metadata": {},
   "outputs": [
    {
     "name": "stdin",
     "output_type": "stream",
     "text": [
      "Podaj dowolne zdanie:  ALE BEKA LOL XDDDDD\n"
     ]
    },
    {
     "name": "stdout",
     "output_type": "stream",
     "text": [
      "Czy wszystkie litery są wielkie? True\n",
      "Czy wszystkie litery są małe? False\n",
      "Nowa wersja zdania: ABC BEKA LOL XDDDDD\n"
     ]
    }
   ],
   "source": [
    "#2.9\n",
    "\n",
    "zdanie = input(\"Podaj dowolne zdanie: \")\n",
    "print(f\"Czy wszystkie litery są wielkie? {zdanie.isupper()}\")\n",
    "print(f\"Czy wszystkie litery są małe? {zdanie.islower()}\")\n",
    "zdanie2 = zdanie.replace(zdanie[0:3], \"ABC\")\n",
    "print(f\"Nowa wersja zdania: {zdanie2}\")"
   ]
  },
  {
   "cell_type": "code",
   "execution_count": 44,
   "id": "b6301d7b-6853-48b1-a2a3-d7703a5097ba",
   "metadata": {},
   "outputs": [
    {
     "name": "stdout",
     "output_type": "stream",
     "text": [
      "Nowe zdanie: Dzisiaj znowu poznajemy interesujące techniki programowania!\n",
      "Wystąpienia litery i: 6\n",
      "Długość nowego tekstu: 60\n"
     ]
    }
   ],
   "source": [
    "#2.10\n",
    "\n",
    "napis_1 = \"Dzisiaj znowu poznajemy Pythona!\"\n",
    "napis_2 = napis_1.replace(\"Pythona\", \"interesujące techniki programowania\")\n",
    "print(f\"Nowe zdanie: {napis_2}\")\n",
    "ile_i = napis_2.count(\"i\")\n",
    "dlugosc = len(napis_2)\n",
    "print(f\"Wystąpienia litery i: {ile_i}\")\n",
    "print(f\"Długość nowego tekstu: {dlugosc}\")"
   ]
  },
  {
   "cell_type": "code",
   "execution_count": null,
   "id": "2af4cee6-f2d9-4337-add9-b96ce73e09b7",
   "metadata": {},
   "outputs": [],
   "source": []
  }
 ],
 "metadata": {
  "kernelspec": {
   "display_name": "Python 3 (ipykernel)",
   "language": "python",
   "name": "python3"
  },
  "language_info": {
   "codemirror_mode": {
    "name": "ipython",
    "version": 3
   },
   "file_extension": ".py",
   "mimetype": "text/x-python",
   "name": "python",
   "nbconvert_exporter": "python",
   "pygments_lexer": "ipython3",
   "version": "3.9.7"
  }
 },
 "nbformat": 4,
 "nbformat_minor": 5
}
