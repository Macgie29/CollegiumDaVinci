{
 "cells": [
  {
   "cell_type": "markdown",
   "id": "439057d5-1e25-4764-94fa-3edc9af4debd",
   "metadata": {},
   "source": [
    "## Dzialania matematyczne"
   ]
  },
  {
   "cell_type": "code",
   "execution_count": 1,
   "id": "0a7159ac-338a-4e29-ace7-eecdb8aa3727",
   "metadata": {},
   "outputs": [
    {
     "data": {
      "text/plain": [
       "3"
      ]
     },
     "execution_count": 1,
     "metadata": {},
     "output_type": "execute_result"
    }
   ],
   "source": [
    "1+2"
   ]
  },
  {
   "cell_type": "code",
   "execution_count": 2,
   "id": "b5713bba-1b6a-4c06-8605-30169a25074a",
   "metadata": {},
   "outputs": [
    {
     "data": {
      "text/plain": [
       "5.5"
      ]
     },
     "execution_count": 2,
     "metadata": {},
     "output_type": "execute_result"
    }
   ],
   "source": [
    "1+4.5"
   ]
  },
  {
   "cell_type": "code",
   "execution_count": 3,
   "id": "42621cf5-1fc1-4e9f-91ee-d8e71cb6926f",
   "metadata": {},
   "outputs": [
    {
     "data": {
      "text/plain": [
       "1.5"
      ]
     },
     "execution_count": 3,
     "metadata": {},
     "output_type": "execute_result"
    }
   ],
   "source": [
    "-1+2.5"
   ]
  },
  {
   "cell_type": "code",
   "execution_count": 4,
   "id": "57a69dba-1bc7-4697-bac0-37a44db5764b",
   "metadata": {},
   "outputs": [
    {
     "data": {
      "text/plain": [
       "55"
      ]
     },
     "execution_count": 4,
     "metadata": {},
     "output_type": "execute_result"
    }
   ],
   "source": [
    "100-45"
   ]
  },
  {
   "cell_type": "code",
   "execution_count": 5,
   "id": "dc37fb04-8241-45c7-b50f-703d8ef03411",
   "metadata": {},
   "outputs": [
    {
     "data": {
      "text/plain": [
       "3.9"
      ]
     },
     "execution_count": 5,
     "metadata": {},
     "output_type": "execute_result"
    }
   ],
   "source": [
    "-1.1+5"
   ]
  },
  {
   "cell_type": "code",
   "execution_count": 6,
   "id": "da32b55e-7ea1-47f0-b1bd-bc5296d55204",
   "metadata": {},
   "outputs": [
    {
     "data": {
      "text/plain": [
       "1.5"
      ]
     },
     "execution_count": 6,
     "metadata": {},
     "output_type": "execute_result"
    }
   ],
   "source": [
    "3/2"
   ]
  },
  {
   "cell_type": "code",
   "execution_count": 7,
   "id": "9db17421-a05a-46a7-bd1f-9755add247fd",
   "metadata": {},
   "outputs": [
    {
     "data": {
      "text/plain": [
       "2.0"
      ]
     },
     "execution_count": 7,
     "metadata": {},
     "output_type": "execute_result"
    }
   ],
   "source": [
    "4/2"
   ]
  },
  {
   "cell_type": "code",
   "execution_count": 8,
   "id": "f4905c33-1271-4d18-8897-bc2318af3d88",
   "metadata": {},
   "outputs": [
    {
     "data": {
      "text/plain": [
       "1"
      ]
     },
     "execution_count": 8,
     "metadata": {},
     "output_type": "execute_result"
    }
   ],
   "source": [
    "3//2"
   ]
  },
  {
   "cell_type": "code",
   "execution_count": 9,
   "id": "f60abbb8-0970-4c63-8d4d-a97c262a2c07",
   "metadata": {},
   "outputs": [
    {
     "data": {
      "text/plain": [
       "-2"
      ]
     },
     "execution_count": 9,
     "metadata": {},
     "output_type": "execute_result"
    }
   ],
   "source": [
    "-3//2"
   ]
  },
  {
   "cell_type": "code",
   "execution_count": 10,
   "id": "d3a8bcef-e5bd-455b-9826-b2e004eb8fa3",
   "metadata": {},
   "outputs": [
    {
     "data": {
      "text/plain": [
       "1"
      ]
     },
     "execution_count": 10,
     "metadata": {},
     "output_type": "execute_result"
    }
   ],
   "source": [
    "11%2"
   ]
  },
  {
   "cell_type": "code",
   "execution_count": 11,
   "id": "7f6fbbae-8575-4095-b0d6-9e795aad97e0",
   "metadata": {},
   "outputs": [
    {
     "data": {
      "text/plain": [
       "4"
      ]
     },
     "execution_count": 11,
     "metadata": {},
     "output_type": "execute_result"
    }
   ],
   "source": [
    "2**2"
   ]
  },
  {
   "cell_type": "code",
   "execution_count": 12,
   "id": "c862fa57-8c88-44b3-aecb-d943437f2228",
   "metadata": {},
   "outputs": [
    {
     "data": {
      "text/plain": [
       "1024"
      ]
     },
     "execution_count": 12,
     "metadata": {},
     "output_type": "execute_result"
    }
   ],
   "source": [
    "2**10"
   ]
  },
  {
   "cell_type": "code",
   "execution_count": 13,
   "id": "e9beb2dd-3d21-40eb-bdd1-72acf5793b89",
   "metadata": {},
   "outputs": [
    {
     "data": {
      "text/plain": [
       "1"
      ]
     },
     "execution_count": 13,
     "metadata": {},
     "output_type": "execute_result"
    }
   ],
   "source": [
    "1**10"
   ]
  },
  {
   "cell_type": "code",
   "execution_count": 14,
   "id": "2bb0eff1-abe8-4761-a616-19679c974b62",
   "metadata": {},
   "outputs": [
    {
     "data": {
      "text/plain": [
       "2.0"
      ]
     },
     "execution_count": 14,
     "metadata": {},
     "output_type": "execute_result"
    }
   ],
   "source": [
    "8**(1/3)"
   ]
  },
  {
   "cell_type": "code",
   "execution_count": 15,
   "id": "4c6cb124-5fa8-4b31-b876-55c629f8e317",
   "metadata": {},
   "outputs": [
    {
     "data": {
      "text/plain": [
       "42"
      ]
     },
     "execution_count": 15,
     "metadata": {},
     "output_type": "execute_result"
    }
   ],
   "source": [
    "6+6*6"
   ]
  },
  {
   "cell_type": "code",
   "execution_count": 16,
   "id": "d86b21b9-b86c-4292-b3bd-db4fbd585f7f",
   "metadata": {},
   "outputs": [
    {
     "data": {
      "text/plain": [
       "72"
      ]
     },
     "execution_count": 16,
     "metadata": {},
     "output_type": "execute_result"
    }
   ],
   "source": [
    "(6+6)*6"
   ]
  },
  {
   "cell_type": "markdown",
   "id": "a219920b-563c-496a-9d3a-02459205183e",
   "metadata": {},
   "source": [
    "## Wyswietlanie tekstu w konsoli"
   ]
  },
  {
   "cell_type": "code",
   "execution_count": 22,
   "id": "c71f831a-be61-42bd-842d-95ba49e5b9f0",
   "metadata": {},
   "outputs": [
    {
     "name": "stdout",
     "output_type": "stream",
     "text": [
      "print('Witaj Swiecie', \"Wersja druga\", end=\"\")\n",
      "print('Witaj Swiecie', \"Wersja druga\", end=\"\")\n",
      "print('Witaj Swiecie', \"Wersja druga\", end=\"\")\n"
     ]
    }
   ],
   "source": [
    "print(\"\"\"print('Witaj Swiecie', \"Wersja druga\", end=\"\")\n",
    "print('Witaj Swiecie', \"Wersja druga\", end=\"\")\n",
    "print('Witaj Swiecie', \"Wersja druga\", end=\"\")\"\"\")"
   ]
  },
  {
   "cell_type": "markdown",
   "id": "4a26be08-8ab2-4d9c-98b8-80f1451275db",
   "metadata": {},
   "source": [
    "## Operatory"
   ]
  },
  {
   "cell_type": "code",
   "execution_count": 18,
   "id": "c91f316c-ae98-4155-af2d-09a7f980c374",
   "metadata": {},
   "outputs": [
    {
     "data": {
      "text/plain": [
       "11"
      ]
     },
     "execution_count": 18,
     "metadata": {},
     "output_type": "execute_result"
    }
   ],
   "source": [
    "a = 5\n",
    "a+1\n",
    "a=10\n",
    "a+1\n"
   ]
  },
  {
   "cell_type": "markdown",
   "id": "9cd0b801-9c17-430b-b0ee-5d259581e7ba",
   "metadata": {},
   "source": [
    "## Typy danych"
   ]
  },
  {
   "cell_type": "code",
   "execution_count": 20,
   "id": "c2e9e3f9-1c07-4d91-b197-773cddd88e29",
   "metadata": {},
   "outputs": [
    {
     "data": {
      "text/plain": [
       "int"
      ]
     },
     "execution_count": 20,
     "metadata": {},
     "output_type": "execute_result"
    }
   ],
   "source": [
    "type(10)"
   ]
  },
  {
   "cell_type": "code",
   "execution_count": 23,
   "id": "463890b5-7d37-4312-b7c9-c6a9f7a7c71b",
   "metadata": {},
   "outputs": [
    {
     "data": {
      "text/plain": [
       "str"
      ]
     },
     "execution_count": 23,
     "metadata": {},
     "output_type": "execute_result"
    }
   ],
   "source": [
    "type(\"10\")"
   ]
  },
  {
   "cell_type": "code",
   "execution_count": 24,
   "id": "a339a8a4-f159-4a08-ba4a-150876969aa9",
   "metadata": {},
   "outputs": [
    {
     "data": {
      "text/plain": [
       "float"
      ]
     },
     "execution_count": 24,
     "metadata": {},
     "output_type": "execute_result"
    }
   ],
   "source": [
    "type(10.0)"
   ]
  },
  {
   "cell_type": "markdown",
   "id": "0ad578e9-f9d0-4305-94c8-541f2ce7e525",
   "metadata": {},
   "source": [
    "## Rzutowanie"
   ]
  },
  {
   "cell_type": "code",
   "execution_count": 26,
   "id": "c49b2ce4-b199-4989-b334-ffd8c9f94cbe",
   "metadata": {},
   "outputs": [
    {
     "data": {
      "text/plain": [
       "int"
      ]
     },
     "execution_count": 26,
     "metadata": {},
     "output_type": "execute_result"
    }
   ],
   "source": [
    "11+12"
   ]
  },
  {
   "cell_type": "code",
   "execution_count": 27,
   "id": "592d127e-9529-4cf5-80a8-8424b0710b80",
   "metadata": {},
   "outputs": [
    {
     "data": {
      "text/plain": [
       "'1112'"
      ]
     },
     "execution_count": 27,
     "metadata": {},
     "output_type": "execute_result"
    }
   ],
   "source": [
    "\"11\"+\"12\""
   ]
  },
  {
   "cell_type": "code",
   "execution_count": 28,
   "id": "c2f28a11-ab91-4d0d-98f0-d6974d85e6c5",
   "metadata": {},
   "outputs": [
    {
     "data": {
      "text/plain": [
       "6"
      ]
     },
     "execution_count": 28,
     "metadata": {},
     "output_type": "execute_result"
    }
   ],
   "source": [
    "int(6.5)"
   ]
  },
  {
   "cell_type": "code",
   "execution_count": 29,
   "id": "aa30f4db-c4d3-47d4-817a-e4b05c5a0fa8",
   "metadata": {},
   "outputs": [
    {
     "data": {
      "text/plain": [
       "3"
      ]
     },
     "execution_count": 29,
     "metadata": {},
     "output_type": "execute_result"
    }
   ],
   "source": [
    "int(3.0)"
   ]
  },
  {
   "cell_type": "code",
   "execution_count": 30,
   "id": "dedb5bdd-3cdf-421b-ba46-5ba6ef1f1c88",
   "metadata": {},
   "outputs": [
    {
     "data": {
      "text/plain": [
       "3.0"
      ]
     },
     "execution_count": 30,
     "metadata": {},
     "output_type": "execute_result"
    }
   ],
   "source": [
    "float(3)"
   ]
  },
  {
   "cell_type": "code",
   "execution_count": 31,
   "id": "c29a436d-f7a6-40e5-8550-5408b9931f7a",
   "metadata": {},
   "outputs": [
    {
     "data": {
      "text/plain": [
       "3.0"
      ]
     },
     "execution_count": 31,
     "metadata": {},
     "output_type": "execute_result"
    }
   ],
   "source": [
    "float(\"3\")"
   ]
  },
  {
   "cell_type": "code",
   "execution_count": 33,
   "id": "75381e3b-7bfa-4b3b-86ed-fe6469f14d88",
   "metadata": {},
   "outputs": [
    {
     "data": {
      "text/plain": [
       "'4.0'"
      ]
     },
     "execution_count": 33,
     "metadata": {},
     "output_type": "execute_result"
    }
   ],
   "source": [
    "str(4.0)"
   ]
  },
  {
   "cell_type": "code",
   "execution_count": 35,
   "id": "da77be72-8172-40a7-80a0-ec2c7a131372",
   "metadata": {},
   "outputs": [
    {
     "data": {
      "text/plain": [
       "3.1"
      ]
     },
     "execution_count": 35,
     "metadata": {},
     "output_type": "execute_result"
    }
   ],
   "source": [
    "float(\"3.1\")"
   ]
  },
  {
   "cell_type": "markdown",
   "id": "76cfb22f-a30c-4bef-88bb-f1286787b5d9",
   "metadata": {},
   "source": [
    "## Tworzenie zmiennych"
   ]
  },
  {
   "cell_type": "code",
   "execution_count": 36,
   "id": "98389c36-18c3-4199-b217-419ae06d14f1",
   "metadata": {},
   "outputs": [
    {
     "data": {
      "text/plain": [
       "11"
      ]
     },
     "execution_count": 36,
     "metadata": {},
     "output_type": "execute_result"
    }
   ],
   "source": [
    "zmienna = 10\n",
    "zmienna+1"
   ]
  },
  {
   "cell_type": "code",
   "execution_count": 37,
   "id": "cae98c83-1889-4db9-9e2a-765db26afc09",
   "metadata": {},
   "outputs": [
    {
     "data": {
      "text/plain": [
       "True"
      ]
     },
     "execution_count": 37,
     "metadata": {},
     "output_type": "execute_result"
    }
   ],
   "source": [
    "zmienna==10"
   ]
  },
  {
   "cell_type": "code",
   "execution_count": 39,
   "id": "5f160f79-fbab-4c6c-95a5-0eb669014552",
   "metadata": {},
   "outputs": [
    {
     "name": "stdout",
     "output_type": "stream",
     "text": [
      "10 11\n"
     ]
    }
   ],
   "source": [
    "print(zmienna, zmienna+1)"
   ]
  },
  {
   "cell_type": "code",
   "execution_count": 40,
   "id": "0276a072-30d2-4b84-9a18-70ca23eeb087",
   "metadata": {},
   "outputs": [
    {
     "name": "stdout",
     "output_type": "stream",
     "text": [
      "Zmienna wynosi: 10\n"
     ]
    }
   ],
   "source": [
    "print(f\"Zmienna wynosi: {zmienna}\")"
   ]
  },
  {
   "cell_type": "code",
   "execution_count": 41,
   "id": "85803768-84b9-4e0f-a199-731d34cbf9b0",
   "metadata": {},
   "outputs": [
    {
     "name": "stdout",
     "output_type": "stream",
     "text": [
      "Witaj Maciej! Dzisiaj jest 8 dzien tego miesiaca!\n"
     ]
    }
   ],
   "source": [
    "name = 'Maciej'\n",
    "day = 8\n",
    "\n",
    "print(f\"Witaj {name}! Dzisiaj jest {day} dzien tego miesiaca!\")"
   ]
  },
  {
   "cell_type": "markdown",
   "id": "31fdda4e-f6ca-4b46-bee6-86d79a124c5e",
   "metadata": {},
   "source": [
    "## Konkatenacja"
   ]
  },
  {
   "cell_type": "code",
   "execution_count": 44,
   "id": "f54f1335-8b3d-4fca-8430-3501c91776f5",
   "metadata": {},
   "outputs": [
    {
     "name": "stdout",
     "output_type": "stream",
     "text": [
      "W tym kursie poznajemy podstawy programowania w pythongu\n"
     ]
    }
   ],
   "source": [
    "zm1 = 'podstawy '\n",
    "zm2 = 'programowania '\n",
    "zm3 = 'w pythongu'\n",
    "\n",
    "print(f\"W tym kursie poznajemy {zm1+zm2+zm3}\")"
   ]
  },
  {
   "cell_type": "markdown",
   "id": "859b1484-198a-47f2-ab79-b18cabdf0a45",
   "metadata": {},
   "source": [
    "## Dzialania na ulamkach"
   ]
  },
  {
   "cell_type": "code",
   "execution_count": 49,
   "id": "ae323bed-f3a4-4799-8f45-2ad9189d73ab",
   "metadata": {},
   "outputs": [],
   "source": [
    "from fractions import Fraction"
   ]
  },
  {
   "cell_type": "code",
   "execution_count": 55,
   "id": "7f2d010a-415f-4954-b010-f6df1080b32e",
   "metadata": {},
   "outputs": [
    {
     "data": {
      "text/plain": [
       "Fraction(2, 1)"
      ]
     },
     "execution_count": 55,
     "metadata": {},
     "output_type": "execute_result"
    }
   ],
   "source": [
    "f1 = Fraction(1,2)\n",
    "f2 = Fraction(3,2)\n",
    "\n",
    "f1+f2"
   ]
  },
  {
   "cell_type": "code",
   "execution_count": 45,
   "id": "0e9450ff-091b-4245-8581-74581679efa6",
   "metadata": {},
   "outputs": [
    {
     "data": {
      "text/plain": [
       "0.8333333333333333"
      ]
     },
     "execution_count": 45,
     "metadata": {},
     "output_type": "execute_result"
    }
   ],
   "source": [
    "1/2 + 1/3"
   ]
  },
  {
   "cell_type": "code",
   "execution_count": 51,
   "id": "79f18e44-0003-4d18-8a6a-94862ba47335",
   "metadata": {},
   "outputs": [
    {
     "data": {
      "text/plain": [
       "Fraction(5, 6)"
      ]
     },
     "execution_count": 51,
     "metadata": {},
     "output_type": "execute_result"
    }
   ],
   "source": [
    "Fraction(1,2) + Fraction(1,3)"
   ]
  },
  {
   "cell_type": "code",
   "execution_count": 46,
   "id": "512ed196-0706-4cdb-9bdd-b8c75291777d",
   "metadata": {},
   "outputs": [
    {
     "data": {
      "text/plain": [
       "0.07500000000000001"
      ]
     },
     "execution_count": 46,
     "metadata": {},
     "output_type": "execute_result"
    }
   ],
   "source": [
    "2/5 * 3/16"
   ]
  },
  {
   "cell_type": "code",
   "execution_count": 47,
   "id": "50efbf1e-4e3a-4bf9-b417-a695978653eb",
   "metadata": {},
   "outputs": [
    {
     "data": {
      "text/plain": [
       "0.9166666666666667"
      ]
     },
     "execution_count": 47,
     "metadata": {},
     "output_type": "execute_result"
    }
   ],
   "source": [
    "5/4 - 1/3"
   ]
  },
  {
   "cell_type": "code",
   "execution_count": 48,
   "id": "63a69121-2ba0-4f6b-8550-e2c3ce3dd1a3",
   "metadata": {},
   "outputs": [
    {
     "data": {
      "text/plain": [
       "1.375"
      ]
     },
     "execution_count": 48,
     "metadata": {},
     "output_type": "execute_result"
    }
   ],
   "source": [
    "(11/12) / (2/3)"
   ]
  },
  {
   "cell_type": "code",
   "execution_count": 56,
   "id": "3fde5a52-ac74-4d3f-8d78-141063b60e21",
   "metadata": {},
   "outputs": [
    {
     "data": {
      "text/plain": [
       "fractions.Fraction"
      ]
     },
     "execution_count": 56,
     "metadata": {},
     "output_type": "execute_result"
    }
   ],
   "source": [
    "f1 = Fraction(1,2)\n",
    "f2 = Fraction(1,3)\n",
    "\n",
    "type(f1)"
   ]
  },
  {
   "cell_type": "code",
   "execution_count": 57,
   "id": "07ead034-6409-4463-aafd-4171169969c7",
   "metadata": {},
   "outputs": [
    {
     "data": {
      "text/plain": [
       "Fraction(5, 6)"
      ]
     },
     "execution_count": 57,
     "metadata": {},
     "output_type": "execute_result"
    }
   ],
   "source": [
    "f1+f2"
   ]
  },
  {
   "cell_type": "code",
   "execution_count": 58,
   "id": "11fadef3-a135-4dd6-8472-0dafa5df410c",
   "metadata": {},
   "outputs": [
    {
     "data": {
      "text/plain": [
       "Fraction(5, 6)"
      ]
     },
     "execution_count": 58,
     "metadata": {},
     "output_type": "execute_result"
    }
   ],
   "source": [
    "f1 = Fraction(1,2)\n",
    "f2 = Fraction(1,3)\n",
    "\n",
    "f1+f2"
   ]
  },
  {
   "cell_type": "code",
   "execution_count": 59,
   "id": "d9359463-d5b3-4dd8-9907-fc8648a4bfd5",
   "metadata": {},
   "outputs": [
    {
     "data": {
      "text/plain": [
       "Fraction(3, 40)"
      ]
     },
     "execution_count": 59,
     "metadata": {},
     "output_type": "execute_result"
    }
   ],
   "source": [
    "f1 = Fraction(2,5)\n",
    "f2 = Fraction(3,16)\n",
    "\n",
    "f1*f2"
   ]
  },
  {
   "cell_type": "code",
   "execution_count": 60,
   "id": "e8b9b377-d832-4485-8014-edc7369ab0d8",
   "metadata": {},
   "outputs": [
    {
     "data": {
      "text/plain": [
       "Fraction(11, 8)"
      ]
     },
     "execution_count": 60,
     "metadata": {},
     "output_type": "execute_result"
    }
   ],
   "source": [
    "f1 = Fraction(11,12)\n",
    "f2 = Fraction(2,3)\n",
    "\n",
    "f1/f2"
   ]
  },
  {
   "cell_type": "markdown",
   "id": "48a04bb9-9cda-4edc-b0dc-584316444559",
   "metadata": {},
   "source": [
    "## Wprowadzanie danych"
   ]
  },
  {
   "cell_type": "code",
   "execution_count": 65,
   "id": "117ad655-472a-4d49-af94-90493f6ccdc1",
   "metadata": {},
   "outputs": [
    {
     "name": "stdin",
     "output_type": "stream",
     "text": [
      "Podaj pierwsza wartosc do zapisania 40\n",
      "Podaj druga wartosc do zapisania 2\n"
     ]
    },
    {
     "name": "stdout",
     "output_type": "stream",
     "text": [
      "42\n",
      "38\n",
      "80\n",
      "20.0\n"
     ]
    }
   ],
   "source": [
    "zmienna1 = int(input(\"Podaj pierwsza wartosc do zapisania\"))\n",
    "zmienna2 = int(input(\"Podaj druga wartosc do zapisania\"))\n",
    "\n",
    "print(zmienna1+zmienna2)\n",
    "print(zmienna1-zmienna2)\n",
    "print(zmienna1*zmienna2)\n",
    "print(zmienna1/zmienna2)"
   ]
  },
  {
   "cell_type": "code",
   "execution_count": null,
   "id": "aa79a8d7-7497-4c59-abbb-ba3b82d12910",
   "metadata": {},
   "outputs": [],
   "source": []
  },
  {
   "cell_type": "code",
   "execution_count": 67,
   "id": "98806431-2c14-4b07-bdaa-0ae05350ebed",
   "metadata": {},
   "outputs": [
    {
     "name": "stdin",
     "output_type": "stream",
     "text": [
      "Podaj dlugosc boku A do zapisania 4\n",
      "Podaj dlugosc boku B do zapisania 10\n"
     ]
    },
    {
     "name": "stdout",
     "output_type": "stream",
     "text": [
      "Pole prostokata wynosi 40, a jego obwod 28\n"
     ]
    }
   ],
   "source": [
    "#1.13\n",
    "bokA = int(input(\"Podaj dlugosc boku A do zapisania\"))\n",
    "bokB = int(input(\"Podaj dlugosc boku B do zapisania\"))\n",
    "\n",
    "print(f\"Pole prostokata wynosi {bokA*bokB}, a jego obwod {bokA*2+bokB*2}\")\n"
   ]
  },
  {
   "cell_type": "code",
   "execution_count": 70,
   "id": "c0688cb2-3d3b-4020-bcc3-a4b7978a11b2",
   "metadata": {},
   "outputs": [
    {
     "name": "stdin",
     "output_type": "stream",
     "text": [
      "Podaj promien kola 6\n"
     ]
    },
    {
     "name": "stdout",
     "output_type": "stream",
     "text": [
      "Obwod kola wynosi 37.7 a pole 113.1\n"
     ]
    }
   ],
   "source": [
    "#1.14\n",
    "from math import pi\n",
    "\n",
    "r = int(input(\"Podaj promien kola\"))\n",
    "\n",
    "obwod = round(2*pi*r,2)\n",
    "pole = round(pi*(r**2),2)\n",
    "\n",
    "print(f\"Obwod kola wynosi {obwod} a pole {pole}\")"
   ]
  },
  {
   "cell_type": "code",
   "execution_count": 81,
   "id": "2b4db976-1c1d-4ce1-8e01-51ae7453d2b9",
   "metadata": {},
   "outputs": [
    {
     "name": "stdin",
     "output_type": "stream",
     "text": [
      "Podaj droge 50\n",
      "Podaj spalanie na 100km 10\n"
     ]
    },
    {
     "name": "stdout",
     "output_type": "stream",
     "text": [
      "zuzyjesz 5.0 paliwa, i bedzie cie to kosztowac 40.0 zl\n"
     ]
    }
   ],
   "source": [
    "#1.15\n",
    "droga = float(input(\"Podaj droge\"))\n",
    "spalanie = float(input(\"Podaj spalanie na 100km\"))\n",
    "\n",
    "cena = 8\n",
    "\n",
    "zuzycie = round(droga*(spalanie/100),2)\n",
    "koszt = round(zuzycie*cena,2)\n",
    "\n",
    "print(f\"zuzyjesz {zuzycie} paliwa, i bedzie cie to kosztowac {koszt} zl\")"
   ]
  },
  {
   "cell_type": "code",
   "execution_count": 77,
   "id": "f2612fc1-fb27-43a8-bf7f-2a5410df7b35",
   "metadata": {},
   "outputs": [
    {
     "name": "stdin",
     "output_type": "stream",
     "text": [
      "Podaj droge 300\n",
      "Ile godzin? 5\n"
     ]
    },
    {
     "name": "stdout",
     "output_type": "stream",
     "text": [
      "Jedziesz srednio 60km/h\n"
     ]
    }
   ],
   "source": [
    "#1.16\n",
    "\n",
    "droga = int(input(\"Podaj droge\"))\n",
    "czas = int(input(\"Ile godzin?\"))\n",
    "          \n",
    "srednia = round(droga/czas)\n",
    "          \n",
    "print(f\"Jedziesz srednio {srednia}km/h\")\n",
    "          \n"
   ]
  },
  {
   "cell_type": "code",
   "execution_count": 85,
   "id": "bb2fbd04-445b-4e57-9817-7650e869cb7c",
   "metadata": {},
   "outputs": [
    {
     "name": "stdin",
     "output_type": "stream",
     "text": [
      "Podaj droge w km/h 36\n"
     ]
    },
    {
     "name": "stdout",
     "output_type": "stream",
     "text": [
      "Jedziesz z predkoscia 10.0 m/s\n"
     ]
    }
   ],
   "source": [
    "#1.17\n",
    "predkosc = int(input(\"Podaj droge w km/h\"))\n",
    "\n",
    "predkosc = predkosc/3.6\n",
    "\n",
    "print(f\"Jedziesz z predkoscia {predkosc} m/s\")"
   ]
  },
  {
   "cell_type": "code",
   "execution_count": 87,
   "id": "cbb90ddf-23d3-45bf-ad44-2fd8f104ad9f",
   "metadata": {},
   "outputs": [
    {
     "name": "stdin",
     "output_type": "stream",
     "text": [
      "Podaj czas [h] 8\n"
     ]
    },
    {
     "name": "stdout",
     "output_type": "stream",
     "text": [
      "W tym czasie linia wyprodukuje 1920.0 szt. produktu o wartosci 4800.0zl\n"
     ]
    }
   ],
   "source": [
    "#1.18\n",
    "\n",
    "h = float(input(\"Podaj czas [h]\"))\n",
    "\n",
    "time = h*60\n",
    "ilosc = time*4\n",
    "wartosc = ilosc*2.5\n",
    "\n",
    "print(f\"W tym czasie linia wyprodukuje {ilosc} szt. produktu o wartosci {wartosc}zl\")"
   ]
  },
  {
   "cell_type": "code",
   "execution_count": null,
   "id": "e03c67fb-86fe-4b82-856d-bf02de315a4f",
   "metadata": {},
   "outputs": [],
   "source": [
    "#1.19"
   ]
  }
 ],
 "metadata": {
  "kernelspec": {
   "display_name": "Python 3 (ipykernel)",
   "language": "python",
   "name": "python3"
  },
  "language_info": {
   "codemirror_mode": {
    "name": "ipython",
    "version": 3
   },
   "file_extension": ".py",
   "mimetype": "text/x-python",
   "name": "python",
   "nbconvert_exporter": "python",
   "pygments_lexer": "ipython3",
   "version": "3.9.7"
  }
 },
 "nbformat": 4,
 "nbformat_minor": 5
}
