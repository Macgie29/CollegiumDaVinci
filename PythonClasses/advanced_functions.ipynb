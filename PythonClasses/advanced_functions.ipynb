{
 "cells": [
  {
   "cell_type": "code",
   "execution_count": 1,
   "metadata": {},
   "outputs": [
    {
     "name": "stdout",
     "output_type": "stream",
     "text": [
      "55\n"
     ]
    }
   ],
   "source": [
    "#uzywajac *args stworz funkcje ktora bedzie zwracac sume wszystkich podanych argumentow\n",
    "\n",
    "def sum_all(*args):\n",
    "    return sum(args)\n",
    "\n",
    "print(sum_all(1,2,3,4,5,6,7,8,9,10))\n"
   ]
  },
  {
   "cell_type": "code",
   "execution_count": 2,
   "metadata": {},
   "outputs": [],
   "source": [
    "#uzywajac **kwargs stworz funkcje ktora przyjmie dowolna ilosc argumentow nazwanych i zwroci je w postaci slownika\n",
    "\n",
    "def dict_all(**kwargs):\n",
    "    return kwargs\n"
   ]
  },
  {
   "cell_type": "code",
   "execution_count": 4,
   "metadata": {},
   "outputs": [
    {
     "name": "stdout",
     "output_type": "stream",
     "text": [
      "(5.5, 55, 10)\n"
     ]
    }
   ],
   "source": [
    "#funckja ktora przyjmie dowolna ilosc argumentow *args i zwroci srednia, sume, liczbe argumentow\n",
    "\n",
    "def avg_sum(*args):\n",
    "    return sum(args)/len(args), sum(args), len(args)\n",
    "\n",
    "print(avg_sum(1,2,3,4,5,6,7,8,9,10))"
   ]
  }
 ],
 "metadata": {
  "kernelspec": {
   "display_name": "base",
   "language": "python",
   "name": "python3"
  },
  "language_info": {
   "codemirror_mode": {
    "name": "ipython",
    "version": 3
   },
   "file_extension": ".py",
   "mimetype": "text/x-python",
   "name": "python",
   "nbconvert_exporter": "python",
   "pygments_lexer": "ipython3",
   "version": "3.11.5"
  }
 },
 "nbformat": 4,
 "nbformat_minor": 2
}
