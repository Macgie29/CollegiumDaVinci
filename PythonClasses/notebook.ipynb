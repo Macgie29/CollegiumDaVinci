{
 "cells": [
  {
   "cell_type": "code",
   "execution_count": 69,
   "metadata": {},
   "outputs": [],
   "source": [
    "import pandas as pd\n",
    "import numpy as np\n",
    "import sqlite3"
   ]
  },
  {
   "cell_type": "code",
   "execution_count": 70,
   "metadata": {},
   "outputs": [],
   "source": [
    "conn = sqlite3.connect('produkty_zajecia.db')\n"
   ]
  },
  {
   "cell_type": "code",
   "execution_count": 71,
   "metadata": {},
   "outputs": [],
   "source": [
    "c = conn.cursor()"
   ]
  },
  {
   "cell_type": "code",
   "execution_count": 72,
   "metadata": {},
   "outputs": [
    {
     "data": {
      "text/plain": [
       "<sqlite3.Cursor at 0x1413b6740>"
      ]
     },
     "execution_count": 72,
     "metadata": {},
     "output_type": "execute_result"
    }
   ],
   "source": [
    "c.execute('''\n",
    "CREATE TABLE IF NOT EXISTS produkty\n",
    "          ([produkt_id] INTEGER PRIMARY KEY, [nazwa_produktu] TEXT)\n",
    "''')"
   ]
  },
  {
   "cell_type": "code",
   "execution_count": 73,
   "metadata": {},
   "outputs": [
    {
     "data": {
      "text/plain": [
       "<sqlite3.Cursor at 0x1413b6740>"
      ]
     },
     "execution_count": 73,
     "metadata": {},
     "output_type": "execute_result"
    }
   ],
   "source": [
    "c.execute('''\n",
    "CREATE TABLE IF NOT EXISTS ceny\n",
    "          ([produkt_id] INTEGER PRIMARY KEY, [cena] integer)\n",
    "''')"
   ]
  },
  {
   "cell_type": "code",
   "execution_count": 74,
   "metadata": {},
   "outputs": [],
   "source": [
    "conn.commit()"
   ]
  },
  {
   "cell_type": "code",
   "execution_count": 75,
   "metadata": {},
   "outputs": [],
   "source": [
    "c.execute('''\n",
    "INSERT INTO produkty (produkt_id, nazwa_produktu)\n",
    "\n",
    "VALUES\n",
    "          (1, 'Komputer'),\n",
    "          (2, 'Monitor'),\n",
    "          (3, 'Mysz'),\n",
    "          (4, 'Klawiatura'),\n",
    "          (5, 'Drukarka')\n",
    "''')\n",
    "\n",
    "conn.commit()"
   ]
  },
  {
   "cell_type": "code",
   "execution_count": 76,
   "metadata": {},
   "outputs": [],
   "source": [
    "c.execute('''\n",
    "INSERT INTO ceny (produkt_id, cena)\n",
    "\n",
    "VALUES\n",
    "          (1, 1500),\n",
    "          (2, 2000),\n",
    "          (3, 50),\n",
    "          (4, 100),\n",
    "          (5, 1400)\n",
    "''')\n",
    "\n",
    "conn.commit()"
   ]
  },
  {
   "cell_type": "code",
   "execution_count": 79,
   "metadata": {},
   "outputs": [
    {
     "data": {
      "text/html": [
       "<div>\n",
       "<style scoped>\n",
       "    .dataframe tbody tr th:only-of-type {\n",
       "        vertical-align: middle;\n",
       "    }\n",
       "\n",
       "    .dataframe tbody tr th {\n",
       "        vertical-align: top;\n",
       "    }\n",
       "\n",
       "    .dataframe thead th {\n",
       "        text-align: right;\n",
       "    }\n",
       "</style>\n",
       "<table border=\"1\" class=\"dataframe\">\n",
       "  <thead>\n",
       "    <tr style=\"text-align: right;\">\n",
       "      <th></th>\n",
       "      <th>Nazwa produktu</th>\n",
       "      <th>Cena</th>\n",
       "    </tr>\n",
       "  </thead>\n",
       "  <tbody>\n",
       "    <tr>\n",
       "      <th>0</th>\n",
       "      <td>Komputer</td>\n",
       "      <td>1500</td>\n",
       "    </tr>\n",
       "    <tr>\n",
       "      <th>1</th>\n",
       "      <td>Monitor</td>\n",
       "      <td>2000</td>\n",
       "    </tr>\n",
       "    <tr>\n",
       "      <th>2</th>\n",
       "      <td>Mysz</td>\n",
       "      <td>50</td>\n",
       "    </tr>\n",
       "    <tr>\n",
       "      <th>3</th>\n",
       "      <td>Klawiatura</td>\n",
       "      <td>100</td>\n",
       "    </tr>\n",
       "    <tr>\n",
       "      <th>4</th>\n",
       "      <td>Drukarka</td>\n",
       "      <td>1400</td>\n",
       "    </tr>\n",
       "  </tbody>\n",
       "</table>\n",
       "</div>"
      ],
      "text/plain": [
       "  Nazwa produktu  Cena\n",
       "0       Komputer  1500\n",
       "1        Monitor  2000\n",
       "2           Mysz    50\n",
       "3     Klawiatura   100\n",
       "4       Drukarka  1400"
      ]
     },
     "execution_count": 79,
     "metadata": {},
     "output_type": "execute_result"
    }
   ],
   "source": [
    "c.execute(\n",
    "    '''\n",
    "    SELECT a.nazwa_produktu, b.cena FROM produkty a LEFT JOIN ceny b ON a.produkt_id = b.produkt_id\n",
    "    '''\n",
    ")\n",
    "\n",
    "df = pd.DataFrame(c.fetchall(), columns = ['Nazwa produktu', 'Cena'])\n",
    "df.head()"
   ]
  },
  {
   "cell_type": "code",
   "execution_count": 80,
   "metadata": {},
   "outputs": [
    {
     "ename": "OperationalError",
     "evalue": "no such table: produkty",
     "output_type": "error",
     "traceback": [
      "\u001b[0;31m---------------------------------------------------------------------------\u001b[0m",
      "\u001b[0;31mOperationalError\u001b[0m                          Traceback (most recent call last)",
      "Cell \u001b[0;32mIn[80], line 20\u001b[0m\n\u001b[1;32m     14\u001b[0m c\u001b[38;5;241m.\u001b[39mexecute(\u001b[38;5;124m'''\u001b[39m\n\u001b[1;32m     15\u001b[0m \u001b[38;5;124mCREATE TABLE IF NOT EXISTS ceny\u001b[39m\n\u001b[1;32m     16\u001b[0m \u001b[38;5;124m          ([produkt_id] INTEGER PRIMARY KEY, [cena] integer)\u001b[39m\n\u001b[1;32m     17\u001b[0m \u001b[38;5;124m'''\u001b[39m)\n\u001b[1;32m     18\u001b[0m conn\u001b[38;5;241m.\u001b[39mcommit()\n\u001b[0;32m---> 20\u001b[0m c\u001b[38;5;241m.\u001b[39mexecute(\u001b[38;5;124m'''\u001b[39m\n\u001b[1;32m     21\u001b[0m \u001b[38;5;124mINSERT INTO produkty (produkt_id, nazwa_produktu)\u001b[39m\n\u001b[1;32m     22\u001b[0m \n\u001b[1;32m     23\u001b[0m \u001b[38;5;124mVALUES\u001b[39m\n\u001b[1;32m     24\u001b[0m \u001b[38;5;124m          (1, \u001b[39m\u001b[38;5;124m'\u001b[39m\u001b[38;5;124mKomputer\u001b[39m\u001b[38;5;124m'\u001b[39m\u001b[38;5;124m),\u001b[39m\n\u001b[1;32m     25\u001b[0m \u001b[38;5;124m          (2, \u001b[39m\u001b[38;5;124m'\u001b[39m\u001b[38;5;124mMonitor\u001b[39m\u001b[38;5;124m'\u001b[39m\u001b[38;5;124m),\u001b[39m\n\u001b[1;32m     26\u001b[0m \u001b[38;5;124m          (3, \u001b[39m\u001b[38;5;124m'\u001b[39m\u001b[38;5;124mMysz\u001b[39m\u001b[38;5;124m'\u001b[39m\u001b[38;5;124m),\u001b[39m\n\u001b[1;32m     27\u001b[0m \u001b[38;5;124m          (4, \u001b[39m\u001b[38;5;124m'\u001b[39m\u001b[38;5;124mKlawiatura\u001b[39m\u001b[38;5;124m'\u001b[39m\u001b[38;5;124m),\u001b[39m\n\u001b[1;32m     28\u001b[0m \u001b[38;5;124m          (5, \u001b[39m\u001b[38;5;124m'\u001b[39m\u001b[38;5;124mDrukarka\u001b[39m\u001b[38;5;124m'\u001b[39m\u001b[38;5;124m)\u001b[39m\n\u001b[1;32m     29\u001b[0m \u001b[38;5;124m'''\u001b[39m)\n\u001b[1;32m     31\u001b[0m conn\u001b[38;5;241m.\u001b[39mcommit()\n\u001b[1;32m     33\u001b[0m c\u001b[38;5;241m.\u001b[39mexecute(\u001b[38;5;124m'''\u001b[39m\n\u001b[1;32m     34\u001b[0m \u001b[38;5;124mINSERT INTO authors (produkt_id, nazwa_produktu)\u001b[39m\n\u001b[1;32m     35\u001b[0m \n\u001b[0;32m   (...)\u001b[0m\n\u001b[1;32m     41\u001b[0m \u001b[38;5;124m          (5, \u001b[39m\u001b[38;5;124m'\u001b[39m\u001b[38;5;124mDrukarka\u001b[39m\u001b[38;5;124m'\u001b[39m\u001b[38;5;124m)\u001b[39m\n\u001b[1;32m     42\u001b[0m \u001b[38;5;124m'''\u001b[39m)\n",
      "\u001b[0;31mOperationalError\u001b[0m: no such table: produkty"
     ]
    }
   ],
   "source": [
    "conn = sqlite3.connect('books.db')\n",
    "c = conn.cursor()\n",
    "\n",
    "c.execute('''\n",
    "CREATE TABLE IF NOT EXISTS books\n",
    "          ([produkt_id] INTEGER PRIMARY KEY, [nazwa_produktu] TEXT)\n",
    "''')\n",
    "conn.commit()\n",
    "c.execute('''\n",
    "CREATE TABLE IF NOT EXISTS authors\n",
    "          ([produkt_id] INTEGER PRIMARY KEY, [nazwa_produktu] TEXT)\n",
    "''')\n",
    "conn.commit()\n",
    "c.execute('''\n",
    "CREATE TABLE IF NOT EXISTS ceny\n",
    "          ([produkt_id] INTEGER PRIMARY KEY, [cena] integer)\n",
    "''')\n",
    "conn.commit()\n",
    "\n",
    "c.execute('''\n",
    "INSERT INTO books (produkt_id, nazwa_produktu)\n",
    "\n",
    "VALUES\n",
    "          (1, 'Komputer'),\n",
    "          (2, 'Monitor'),\n",
    "          (3, 'Mysz'),\n",
    "          (4, 'Klawiatura'),\n",
    "          (5, 'Drukarka')\n",
    "''')\n",
    "\n",
    "conn.commit()\n",
    "\n",
    "c.execute('''\n",
    "INSERT INTO authors (produkt_id, nazwa_produktu)\n",
    "\n",
    "VALUES\n",
    "          (1, 'Komputer'),\n",
    "          (2, 'Monitor'),\n",
    "          (3, 'Mysz'),\n",
    "          (4, 'Klawiatura'),\n",
    "          (5, 'Drukarka')\n",
    "''')\n",
    "\n",
    "conn.commit()\n",
    "\n",
    "c.execute('''\n",
    "INSERT INTO ceny (produkt_id, cena)\n",
    "\n",
    "VALUES\n",
    "          (1, 1500),\n",
    "          (2, 2000),\n",
    "          (3, 50),\n",
    "          (4, 100),\n",
    "          (5, 1400)\n",
    "''')\n",
    "\n",
    "conn.commit()"
   ]
  }
 ],
 "metadata": {
  "kernelspec": {
   "display_name": "base",
   "language": "python",
   "name": "python3"
  },
  "language_info": {
   "codemirror_mode": {
    "name": "ipython",
    "version": 3
   },
   "file_extension": ".py",
   "mimetype": "text/x-python",
   "name": "python",
   "nbconvert_exporter": "python",
   "pygments_lexer": "ipython3",
   "version": "3.11.5"
  }
 },
 "nbformat": 4,
 "nbformat_minor": 2
}
